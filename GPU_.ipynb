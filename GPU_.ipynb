{
  "nbformat": 4,
  "nbformat_minor": 0,
  "metadata": {
    "colab": {
      "provenance": [],
      "gpuType": "T4",
      "authorship_tag": "ABX9TyO4rtc45CzRolGVFdU2wPCT",
      "include_colab_link": true
    },
    "kernelspec": {
      "name": "python3",
      "display_name": "Python 3"
    },
    "language_info": {
      "name": "python"
    },
    "accelerator": "GPU"
  },
  "cells": [
    {
      "cell_type": "markdown",
      "metadata": {
        "id": "view-in-github",
        "colab_type": "text"
      },
      "source": [
        "<a href=\"https://colab.research.google.com/github/vsnupoudel/AdvancedCV-Courses/blob/main/GPU_.ipynb\" target=\"_parent\"><img src=\"https://colab.research.google.com/assets/colab-badge.svg\" alt=\"Open In Colab\"/></a>"
      ]
    },
    {
      "cell_type": "code",
      "execution_count": 2,
      "metadata": {
        "id": "WqMdlmmFAoFH"
      },
      "outputs": [],
      "source": [
        "# !pip install numba\n"
      ]
    },
    {
      "cell_type": "code",
      "source": [
        "import numpy as np\n",
        "from numba import cuda\n",
        "\n",
        "# Define the CUDA kernel\n",
        "@cuda.jit\n",
        "def vector_addition(a, b, c):\n",
        "    idx = cuda.grid(1)\n",
        "    if idx < a.size:\n",
        "        c[idx] = a[idx] + b[idx]\n"
      ],
      "metadata": {
        "id": "Q9BTvEAtazzO"
      },
      "execution_count": 3,
      "outputs": []
    },
    {
      "cell_type": "code",
      "source": [
        "\n",
        "# Initialize vectors\n",
        "N = 999999999\n",
        "a = np.ones(N, dtype=np.float32)\n",
        "b = np.ones(N, dtype=np.float32)\n",
        "c = np.zeros(N, dtype=np.float32)\n",
        "\n",
        "# Allocate device memory\n",
        "a_device = cuda.to_device(a)\n",
        "b_device = cuda.to_device(b)\n",
        "c_device = cuda.device_array_like(c)\n",
        "\n",
        "# Define the number of threads and blocks\n",
        "threads_per_block = 256\n",
        "blocks_per_grid = (a.size + (threads_per_block - 1)) // threads_per_block\n"
      ],
      "metadata": {
        "id": "TK2ABni2a9Jj"
      },
      "execution_count": 4,
      "outputs": []
    },
    {
      "cell_type": "code",
      "source": [
        "blocks_per_grid"
      ],
      "metadata": {
        "colab": {
          "base_uri": "https://localhost:8080/"
        },
        "id": "ZmNuN_9rbKPD",
        "outputId": "2ad1ec96-0c7a-4069-e5eb-a9a41b8df308"
      },
      "execution_count": 5,
      "outputs": [
        {
          "output_type": "execute_result",
          "data": {
            "text/plain": [
              "3906250"
            ]
          },
          "metadata": {},
          "execution_count": 5
        }
      ]
    },
    {
      "cell_type": "code",
      "source": [
        "\n",
        "# Launch the kernel\n",
        "vector_addition[blocks_per_grid, threads_per_block](a_device, b_device, c_device)\n",
        "\n",
        "# Copy the result back to the host\n",
        "c = c_device.copy_to_host()\n",
        "\n",
        "print(c[:999999])  # Print the first 10 elements of the result\n"
      ],
      "metadata": {
        "colab": {
          "base_uri": "https://localhost:8080/"
        },
        "id": "Lef8gGJ_a_Ij",
        "outputId": "ed5939f4-a018-4a94-9ad2-3100898350a5"
      },
      "execution_count": 6,
      "outputs": [
        {
          "output_type": "stream",
          "name": "stdout",
          "text": [
            "[2. 2. 2. ... 2. 2. 2.]\n"
          ]
        }
      ]
    },
    {
      "cell_type": "code",
      "source": [
        "# np.add(a,b)"
      ],
      "metadata": {
        "id": "9C7-v8ExbR1L"
      },
      "execution_count": null,
      "outputs": []
    },
    {
      "cell_type": "code",
      "source": [],
      "metadata": {
        "id": "4kNe0--0bWn6"
      },
      "execution_count": null,
      "outputs": []
    }
  ]
}